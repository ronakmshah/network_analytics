{
 "cells": [
  {
   "cell_type": "code",
   "execution_count": 1,
   "metadata": {
    "collapsed": true
   },
   "outputs": [],
   "source": [
    "import pandas as pd\n",
    "import elasticsearch\n",
    "es = elasticsearch.Elasticsearch('192.168.200.1')"
   ]
  },
  {
   "cell_type": "code",
   "execution_count": 2,
   "metadata": {},
   "outputs": [
    {
     "name": "stdout",
     "output_type": "stream",
     "text": [
      "['Kerberos', 'PG4-VPort2', 'PG4']\n"
     ]
    }
   ],
   "source": [
    "def process_es_search(flows):\n",
    "    return [[x['_source']['nuage_metadata']['service'],\n",
    "            x['_source']['nuage_metadata']['sourcevport'],\n",
    "            x['_source']['nuage_metadata']['acl_source_name']] for x in flows]\n",
    "    \n",
    "data = []\n",
    "page = es.search(index='nuage_flow_test',\n",
    "                 doc_type='nuage_doc_type',\n",
    "                 body={\"query\": {\"match_all\": {}}},\n",
    "                scroll = '2m',\n",
    "                size = 10000)\n",
    "\n",
    "#print(page['hits']['hits'][0])\n",
    "data += process_es_search(page['hits']['hits'])\n",
    "sid = page['_scroll_id']\n",
    "scroll_size = len(page['hits']['hits'])\n",
    "while scroll_size>0:\n",
    "    page = es.scroll(scroll_id = sid, scroll = '2m')\n",
    "    data += process_es_search(page['hits']['hits'])\n",
    "    sid = page['_scroll_id']\n",
    "    scroll_size = len(page['hits']['hits'])\n",
    "\n",
    "print(data[0])\n",
    "\n"
   ]
  },
  {
   "cell_type": "code",
   "execution_count": 3,
   "metadata": {},
   "outputs": [
    {
     "name": "stdout",
     "output_type": "stream",
     "text": [
      "['Kerberos', 'PG4-VPort2', 'PG4']\n",
      "360000\n"
     ]
    }
   ],
   "source": [
    "from pprint import pprint\n",
    "pprint(data[0])\n",
    "print(len(data))"
   ]
  },
  {
   "cell_type": "code",
   "execution_count": 4,
   "metadata": {},
   "outputs": [
    {
     "data": {
      "text/html": [
       "<div>\n",
       "<style>\n",
       "    .dataframe thead tr:only-child th {\n",
       "        text-align: right;\n",
       "    }\n",
       "\n",
       "    .dataframe thead th {\n",
       "        text-align: left;\n",
       "    }\n",
       "\n",
       "    .dataframe tbody tr th {\n",
       "        vertical-align: top;\n",
       "    }\n",
       "</style>\n",
       "<table border=\"1\" class=\"dataframe\">\n",
       "  <thead>\n",
       "    <tr style=\"text-align: right;\">\n",
       "      <th></th>\n",
       "      <th>service</th>\n",
       "      <th>sourcevport</th>\n",
       "      <th>acl_source_name</th>\n",
       "    </tr>\n",
       "  </thead>\n",
       "  <tbody>\n",
       "    <tr>\n",
       "      <th>0</th>\n",
       "      <td>Kerberos</td>\n",
       "      <td>PG4-VPort2</td>\n",
       "      <td>PG4</td>\n",
       "    </tr>\n",
       "    <tr>\n",
       "      <th>1</th>\n",
       "      <td>Kerberos</td>\n",
       "      <td>PG4-VPort2</td>\n",
       "      <td>PG4</td>\n",
       "    </tr>\n",
       "    <tr>\n",
       "      <th>2</th>\n",
       "      <td>Kerberos</td>\n",
       "      <td>PG4-VPort2</td>\n",
       "      <td>PG4</td>\n",
       "    </tr>\n",
       "    <tr>\n",
       "      <th>3</th>\n",
       "      <td>Kerberos</td>\n",
       "      <td>PG4-VPort2</td>\n",
       "      <td>PG4</td>\n",
       "    </tr>\n",
       "    <tr>\n",
       "      <th>4</th>\n",
       "      <td>Kerberos</td>\n",
       "      <td>PG4-VPort2</td>\n",
       "      <td>PG4</td>\n",
       "    </tr>\n",
       "  </tbody>\n",
       "</table>\n",
       "</div>"
      ],
      "text/plain": [
       "    service sourcevport acl_source_name\n",
       "0  Kerberos  PG4-VPort2             PG4\n",
       "1  Kerberos  PG4-VPort2             PG4\n",
       "2  Kerberos  PG4-VPort2             PG4\n",
       "3  Kerberos  PG4-VPort2             PG4\n",
       "4  Kerberos  PG4-VPort2             PG4"
      ]
     },
     "execution_count": 4,
     "metadata": {},
     "output_type": "execute_result"
    }
   ],
   "source": [
    "cols = ['service','sourcevport','acl_source_name']\n",
    "df = pd.DataFrame(data,columns=cols)\n",
    "df.head()"
   ]
  },
  {
   "cell_type": "code",
   "execution_count": 5,
   "metadata": {},
   "outputs": [
    {
     "data": {
      "text/plain": [
       "Index                   80\n",
       "service            2880000\n",
       "sourcevport        2880000\n",
       "acl_source_name    2880000\n",
       "dtype: int64"
      ]
     },
     "execution_count": 5,
     "metadata": {},
     "output_type": "execute_result"
    }
   ],
   "source": [
    "df.memory_usage()"
   ]
  },
  {
   "cell_type": "code",
   "execution_count": 6,
   "metadata": {},
   "outputs": [
    {
     "name": "stderr",
     "output_type": "stream",
     "text": [
      "/home/vagrant/anaconda3/lib/python3.6/site-packages/sklearn/cross_validation.py:41: DeprecationWarning: This module was deprecated in version 0.18 in favor of the model_selection module into which all the refactored classes and functions are moved. Also note that the interface of the new CV iterators are different from that of this module. This module will be removed in 0.20.\n",
      "  \"This module will be removed in 0.20.\", DeprecationWarning)\n"
     ]
    }
   ],
   "source": [
    "from sklearn.preprocessing import LabelEncoder\n",
    "import pickle\n",
    "import xgboost\n",
    "xgb = xgboost.XGBClassifier(gamma = 0.1)\n",
    "\n",
    "\n",
    "le = LabelEncoder()\n",
    "le.fit(df['service'])\n",
    "df['service'] = le.transform(df['service'])\n",
    "\n",
    "le2 = LabelEncoder()\n",
    "le2.fit(df['sourcevport'])\n",
    "df['sourcevport'] = le2.transform(df['sourcevport'])\n",
    "\n",
    "le3 = LabelEncoder()\n",
    "le3.fit(df['acl_source_name'])\n",
    "df['acl_source_name'] = le3.transform(df['acl_source_name'])\n",
    "\n",
    "X = df[['service','sourcevport']] #Predictor variable\n",
    "Y = df['acl_source_name'] #Response variable\n"
   ]
  },
  {
   "cell_type": "code",
   "execution_count": 7,
   "metadata": {
    "collapsed": true
   },
   "outputs": [],
   "source": [
    "import numpy as np\n",
    "np.random.seed(123)\n",
    "msk = np.random.randn(len(df))<0.75"
   ]
  },
  {
   "cell_type": "code",
   "execution_count": 8,
   "metadata": {
    "collapsed": true
   },
   "outputs": [],
   "source": [
    "trainX,testX = X[msk],X[~msk]\n",
    "trainY,testY = Y[msk],Y[~msk]"
   ]
  },
  {
   "cell_type": "code",
   "execution_count": 9,
   "metadata": {},
   "outputs": [
    {
     "name": "stdout",
     "output_type": "stream",
     "text": [
      "(278186, 2) (278186,) (81814, 2) (81814,)\n"
     ]
    }
   ],
   "source": [
    "print(trainX.shape,trainY.shape,testX.shape,testY.shape)"
   ]
  },
  {
   "cell_type": "code",
   "execution_count": 10,
   "metadata": {
    "collapsed": true
   },
   "outputs": [],
   "source": [
    "model = xgb.fit(trainX,trainY)"
   ]
  },
  {
   "cell_type": "code",
   "execution_count": 11,
   "metadata": {
    "collapsed": true
   },
   "outputs": [],
   "source": [
    "predictedY = model.predict(testX)"
   ]
  },
  {
   "cell_type": "code",
   "execution_count": 12,
   "metadata": {
    "collapsed": true
   },
   "outputs": [],
   "source": [
    "from sklearn.metrics import recall_score,precision_score"
   ]
  },
  {
   "cell_type": "code",
   "execution_count": 13,
   "metadata": {},
   "outputs": [
    {
     "name": "stdout",
     "output_type": "stream",
     "text": [
      "Recall =  1.0 \n",
      "\n",
      "Precision =  1.0 \n",
      "\n"
     ]
    }
   ],
   "source": [
    "print(\"Recall = \",recall_score(testY,predictedY,average='micro'),'\\n')\n",
    "print(\"Precision = \",precision_score(testY,predictedY,average='micro'),'\\n')"
   ]
  }
 ],
 "metadata": {
  "kernelspec": {
   "display_name": "Python 3",
   "language": "python",
   "name": "python3"
  },
  "language_info": {
   "codemirror_mode": {
    "name": "ipython",
    "version": 3
   },
   "file_extension": ".py",
   "mimetype": "text/x-python",
   "name": "python",
   "nbconvert_exporter": "python",
   "pygments_lexer": "ipython3",
   "version": "3.6.3"
  }
 },
 "nbformat": 4,
 "nbformat_minor": 2
}
